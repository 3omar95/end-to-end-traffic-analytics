{
 "cells": [
  {
   "cell_type": "code",
   "execution_count": 1,
   "id": "b6cf7e8238fb7854",
   "metadata": {
    "ExecuteTime": {
     "end_time": "2024-09-04T00:54:08.313055Z",
     "start_time": "2024-09-04T00:54:03.927003Z"
    }
   },
   "outputs": [],
   "source": [
    "from bytetracker import BYTETracker\n",
    "import torch\n",
    "from ultralytics import YOLO\n",
    "import cv2\n",
    "import supervision as sv\n",
    "\n",
    "from tqdm import tqdm\n",
    "import os\n",
    "import matplotlib.pyplot as plt\n",
    "%matplotlib inline\n",
    "import numpy as np\n",
    "import pandas as pd"
   ]
  },
  {
   "cell_type": "code",
   "execution_count": 2,
   "id": "7d206c30094dcd6d",
   "metadata": {
    "ExecuteTime": {
     "end_time": "2024-09-04T00:54:08.331810Z",
     "start_time": "2024-09-04T00:54:08.323310Z"
    }
   },
   "outputs": [],
   "source": [
    "current_path = os.getcwd()"
   ]
  },
  {
   "cell_type": "code",
   "execution_count": 3,
   "id": "f3dc8beb7269c5ac",
   "metadata": {
    "ExecuteTime": {
     "end_time": "2024-09-04T00:54:08.353874Z",
     "start_time": "2024-09-04T00:54:08.336499Z"
    }
   },
   "outputs": [],
   "source": [
    "# define the model\n",
    "# version = 'v8'\n",
    "# model_path = current_path + f'/checkpoints/YOLO/{version}/weights/'\n",
    "# model = YOLO(model_path+'best.pt')\n",
    "# model.info()"
   ]
  },
  {
   "cell_type": "code",
   "execution_count": 4,
   "id": "6e67397d5e5d8a7d",
   "metadata": {
    "ExecuteTime": {
     "end_time": "2024-09-04T00:54:10.724085Z",
     "start_time": "2024-09-04T00:54:08.359459Z"
    }
   },
   "outputs": [],
   "source": [
    "model = YOLO('yolov8x.pt')"
   ]
  },
  {
   "cell_type": "code",
   "execution_count": 6,
   "id": "2388ed6e0c022b3f",
   "metadata": {
    "ExecuteTime": {
     "end_time": "2024-09-04T00:54:10.959030Z",
     "start_time": "2024-09-04T00:54:10.741462Z"
    }
   },
   "outputs": [],
   "source": [
    "# get the video generator\n",
    "filename = 'test.mp4'\n",
    "video_path = current_path + f'/data/videos/{filename}'\n",
    "frames = sv.get_video_frames_generator(video_path)\n",
    "video_info = sv.VideoInfo.from_video_path(video_path)"
   ]
  },
  {
   "cell_type": "code",
   "execution_count": 7,
   "id": "7615933ac08e6886",
   "metadata": {
    "ExecuteTime": {
     "end_time": "2024-09-04T00:54:10.964796Z",
     "start_time": "2024-09-04T00:54:10.960752Z"
    }
   },
   "outputs": [],
   "source": [
    "dest_path = current_path + '/data/videos/output.mp4'"
   ]
  },
  {
   "cell_type": "code",
   "execution_count": 8,
   "id": "f3ef253911fb99e7",
   "metadata": {
    "ExecuteTime": {
     "end_time": "2024-09-04T00:54:10.975397Z",
     "start_time": "2024-09-04T00:54:10.966912Z"
    }
   },
   "outputs": [],
   "source": [
    "# Define the box annotator\n",
    "tracker = sv.ByteTrack()\n",
    "box_annotator = sv.BoxAnnotator()\n",
    "label_annotator = sv.LabelAnnotator()"
   ]
  },
  {
   "cell_type": "code",
   "execution_count": 9,
   "id": "7db6d9bce56ab011",
   "metadata": {
    "ExecuteTime": {
     "end_time": "2024-09-04T00:54:10.991392Z",
     "start_time": "2024-09-04T00:54:10.977876Z"
    }
   },
   "outputs": [
    {
     "data": {
      "text/plain": [
       "{0: 'person',\n",
       " 1: 'bicycle',\n",
       " 2: 'car',\n",
       " 3: 'motorcycle',\n",
       " 4: 'airplane',\n",
       " 5: 'bus',\n",
       " 6: 'train',\n",
       " 7: 'truck',\n",
       " 8: 'boat',\n",
       " 9: 'traffic light',\n",
       " 10: 'fire hydrant',\n",
       " 11: 'stop sign',\n",
       " 12: 'parking meter',\n",
       " 13: 'bench',\n",
       " 14: 'bird',\n",
       " 15: 'cat',\n",
       " 16: 'dog',\n",
       " 17: 'horse',\n",
       " 18: 'sheep',\n",
       " 19: 'cow',\n",
       " 20: 'elephant',\n",
       " 21: 'bear',\n",
       " 22: 'zebra',\n",
       " 23: 'giraffe',\n",
       " 24: 'backpack',\n",
       " 25: 'umbrella',\n",
       " 26: 'handbag',\n",
       " 27: 'tie',\n",
       " 28: 'suitcase',\n",
       " 29: 'frisbee',\n",
       " 30: 'skis',\n",
       " 31: 'snowboard',\n",
       " 32: 'sports ball',\n",
       " 33: 'kite',\n",
       " 34: 'baseball bat',\n",
       " 35: 'baseball glove',\n",
       " 36: 'skateboard',\n",
       " 37: 'surfboard',\n",
       " 38: 'tennis racket',\n",
       " 39: 'bottle',\n",
       " 40: 'wine glass',\n",
       " 41: 'cup',\n",
       " 42: 'fork',\n",
       " 43: 'knife',\n",
       " 44: 'spoon',\n",
       " 45: 'bowl',\n",
       " 46: 'banana',\n",
       " 47: 'apple',\n",
       " 48: 'sandwich',\n",
       " 49: 'orange',\n",
       " 50: 'broccoli',\n",
       " 51: 'carrot',\n",
       " 52: 'hot dog',\n",
       " 53: 'pizza',\n",
       " 54: 'donut',\n",
       " 55: 'cake',\n",
       " 56: 'chair',\n",
       " 57: 'couch',\n",
       " 58: 'potted plant',\n",
       " 59: 'bed',\n",
       " 60: 'dining table',\n",
       " 61: 'toilet',\n",
       " 62: 'tv',\n",
       " 63: 'laptop',\n",
       " 64: 'mouse',\n",
       " 65: 'remote',\n",
       " 66: 'keyboard',\n",
       " 67: 'cell phone',\n",
       " 68: 'microwave',\n",
       " 69: 'oven',\n",
       " 70: 'toaster',\n",
       " 71: 'sink',\n",
       " 72: 'refrigerator',\n",
       " 73: 'book',\n",
       " 74: 'clock',\n",
       " 75: 'vase',\n",
       " 76: 'scissors',\n",
       " 77: 'teddy bear',\n",
       " 78: 'hair drier',\n",
       " 79: 'toothbrush'}"
      ]
     },
     "execution_count": 9,
     "metadata": {},
     "output_type": "execute_result"
    }
   ],
   "source": [
    "# Define classes \n",
    "classes = model.model.names\n",
    "classes"
   ]
  },
  {
   "cell_type": "code",
   "execution_count": 10,
   "id": "86bb811bdd1ba1bc",
   "metadata": {
    "ExecuteTime": {
     "end_time": "2024-09-04T00:54:11.003172Z",
     "start_time": "2024-09-04T00:54:10.994167Z"
    }
   },
   "outputs": [
    {
     "data": {
      "text/plain": [
       "1800"
      ]
     },
     "execution_count": 10,
     "metadata": {},
     "output_type": "execute_result"
    }
   ],
   "source": [
    "video_info.total_frames"
   ]
  },
  {
   "cell_type": "code",
   "execution_count": 23,
   "id": "fe4eff5b08d94de4",
   "metadata": {
    "ExecuteTime": {
     "end_time": "2024-08-11T08:49:00.352135Z",
     "start_time": "2024-08-11T08:48:59.160568Z"
    }
   },
   "outputs": [
    {
     "data": {
      "text/plain": [
       "True"
      ]
     },
     "execution_count": 23,
     "metadata": {},
     "output_type": "execute_result"
    }
   ],
   "source": [
    "generator = sv.get_video_frames_generator(video_path)\n",
    "iterator = iter(generator)\n",
    "frame = next(iterator)\n",
    "\n",
    "cv2.imwrite(\"frame.jpg\", frame)"
   ]
  },
  {
   "cell_type": "code",
   "execution_count": 11,
   "id": "e7d87f0b0628edab",
   "metadata": {
    "ExecuteTime": {
     "end_time": "2024-09-04T01:06:29.959222Z",
     "start_time": "2024-09-04T00:54:11.005987Z"
    }
   },
   "outputs": [
    {
     "name": "stderr",
     "output_type": "stream",
     "text": [
      "  0%|          | 0/1800 [00:00<?, ?it/s]UserWarning: Applied workaround for CuDNN issue, install nvrtc.so (Triggered internally at ../aten/src/ATen/native/cudnn/Conv_v8.cpp:84.)\n",
      "100%|██████████| 1800/1800 [12:18<00:00,  2.44it/s]\n"
     ]
    }
   ],
   "source": [
    "class_ids = [2, 5, 7]\n",
    "\n",
    "# Initialize the vehicle counts for two polygonal zones\n",
    "zone_1_count = 0\n",
    "zone_2_count = 0\n",
    "\n",
    "# Initialize sets to track vehicles in each zone\n",
    "zone_1_tracked_ids = set()\n",
    "zone_2_tracked_ids = set()\n",
    "\n",
    "# Define the polygonal zones using a list of (x, y) points\n",
    "zone_1_points = np.array([[1952, 758],[1912, 2150],[524, 2146],[1400, 742]])\n",
    "zone_2_points = np.array([[1928, 2150],[1956, 750],[2440, 746],[3328, 2150]])\n",
    "\n",
    "# Create PolygonZone objects\n",
    "zone_1 = sv.PolygonZone(polygon=zone_1_points)\n",
    "zone_2 = sv.PolygonZone(polygon=zone_2_points)\n",
    "\n",
    "zone1_annotator = sv.PolygonZoneAnnotator(zone=zone_1, color=sv.Color.WHITE, thickness=6, text_thickness=6, text_scale=4)\n",
    "zone2_annotator = sv.PolygonZoneAnnotator(zone=zone_2, color=sv.Color.WHITE, thickness=6, text_thickness=6, text_scale=4)\n",
    "\n",
    "# Going through the frames\n",
    "with sv.VideoSink(dest_path, video_info=video_info) as sink:\n",
    "    for frame in tqdm(frames, total=video_info.total_frames):\n",
    "        annotated_frame = frame.copy()\n",
    "        \n",
    "        # # Resize the frame\n",
    "        # resized_frame = cv2.resize(frame, (640, 640))\n",
    "        \n",
    "        # Get the results from the model\n",
    "        results = model(frame, verbose=False)[0]\n",
    "\n",
    "        # Get the detections\n",
    "        detections = sv.Detections.from_ultralytics(results)\n",
    "        detections = detections[np.isin(detections.class_id, class_ids)]\n",
    "        detections = tracker.update_with_detections(detections)\n",
    "        \n",
    "        # Draw the zones on the frame\n",
    "        annotated_frame = sv.draw_polygon(annotated_frame, zone_1_points, color=sv.Color.WHITE, thickness=2)\n",
    "        annotated_frame = sv.draw_polygon(annotated_frame, zone_2_points, color=sv.Color.WHITE, thickness=2)\n",
    "        \n",
    "        labels = [\n",
    "            f\"#{tracker_id} {results.names[class_id]}: {conf:.2f}\"\n",
    "            for class_id, tracker_id, conf\n",
    "            in zip(detections.class_id, detections.tracker_id, detections.confidence)\n",
    "        ]\n",
    "        \n",
    "        # Process detections for Zone 1\n",
    "        for i in range(len(detections.xyxy)):\n",
    "            tracker_id = detections.tracker_id[i]\n",
    "            if tracker_id not in zone_1_tracked_ids and zone_1.trigger(detections=detections[i:i+1]):\n",
    "                zone_1_tracked_ids.add(tracker_id)\n",
    "                zone_1_count += 1\n",
    "\n",
    "        # Process detections for Zone 2\n",
    "        for i in range(len(detections.xyxy)):\n",
    "            tracker_id = detections.tracker_id[i]\n",
    "            if tracker_id not in zone_2_tracked_ids and zone_2.trigger(detections=detections[i:i+1]):\n",
    "                zone_2_tracked_ids.add(tracker_id)\n",
    "                zone_2_count += 1\n",
    "\n",
    "\n",
    "        # Annotate the frame with bounding boxes and labels\n",
    "        annotated_frame = box_annotator.annotate(annotated_frame, detections=detections)\n",
    "        annotated_frame = label_annotator.annotate(annotated_frame, detections=detections, labels=labels)\n",
    "        \n",
    "        text_anchor = sv.Point(x=1080, y=180)\n",
    "        text = f\"Lane 1: {zone_1_count}\"\n",
    "        annotated_frame = sv.draw_text(\n",
    "            scene=annotated_frame,\n",
    "            text=text,\n",
    "            text_anchor=text_anchor,\n",
    "            text_color=sv.Color.BLACK,\n",
    "            background_color=sv.Color.YELLOW,\n",
    "            text_scale=5,\n",
    "            text_thickness=6,\n",
    "            text_font=cv2.FONT_HERSHEY_COMPLEX\n",
    "        )\n",
    "        \n",
    "        text_anchor = sv.Point(x=3080, y=180)\n",
    "        text = f\"Lane 2: {zone_2_count}\"\n",
    "        final_frame = sv.draw_text(\n",
    "            scene=annotated_frame,\n",
    "            text=text,\n",
    "            text_anchor=text_anchor,\n",
    "            text_color=sv.Color.BLACK,\n",
    "            background_color=sv.Color.YELLOW,\n",
    "            text_scale=5,\n",
    "            text_thickness=6,\n",
    "            text_font=cv2.FONT_HERSHEY_COMPLEX\n",
    "        )\n",
    "\n",
    "        sink.write_frame(final_frame)"
   ]
  },
  {
   "cell_type": "code",
   "execution_count": 12,
   "id": "6649f43c9ea09136",
   "metadata": {
    "ExecuteTime": {
     "end_time": "2024-08-11T10:23:14.782550Z",
     "start_time": "2024-08-11T10:23:14.776060Z"
    }
   },
   "outputs": [
    {
     "name": "stdout",
     "output_type": "stream",
     "text": [
      "Total number of vehicles in Zone 1: 91\n",
      "Total number of vehicles in Zone 2: 76\n"
     ]
    }
   ],
   "source": [
    "# Output the total count of vehicles in each zone\n",
    "print(f\"Total number of vehicles in Zone 1: {zone_1_count}\")\n",
    "print(f\"Total number of vehicles in Zone 2: {zone_2_count}\")"
   ]
  },
  {
   "cell_type": "code",
   "execution_count": 17,
   "id": "6d7e207c8dd9e024",
   "metadata": {
    "ExecuteTime": {
     "end_time": "2024-08-11T00:29:11.343310Z",
     "start_time": "2024-08-11T00:29:11.329255Z"
    }
   },
   "outputs": [
    {
     "data": {
      "text/plain": [
       "(3840, 2160)"
      ]
     },
     "execution_count": 17,
     "metadata": {},
     "output_type": "execute_result"
    }
   ],
   "source": [
    "video_info.resolution_wh"
   ]
  },
  {
   "cell_type": "code",
   "execution_count": 24,
   "id": "490566c51806e7eb",
   "metadata": {
    "ExecuteTime": {
     "end_time": "2024-07-31T11:14:22.066681Z",
     "start_time": "2024-07-31T11:14:22.058422Z"
    }
   },
   "outputs": [],
   "source": [
    "# plt.imshow(frame)\n",
    "# plt.axis('off')\n",
    "# plt.show()"
   ]
  },
  {
   "cell_type": "code",
   "execution_count": null,
   "id": "c8ec5386dcd682db",
   "metadata": {},
   "outputs": [],
   "source": []
  }
 ],
 "metadata": {
  "kernelspec": {
   "display_name": "Python 3",
   "language": "python",
   "name": "python3"
  },
  "language_info": {
   "codemirror_mode": {
    "name": "ipython",
    "version": 2
   },
   "file_extension": ".py",
   "mimetype": "text/x-python",
   "name": "python",
   "nbconvert_exporter": "python",
   "pygments_lexer": "ipython2",
   "version": "2.7.6"
  }
 },
 "nbformat": 4,
 "nbformat_minor": 5
}
